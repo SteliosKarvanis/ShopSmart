{
 "cells": [
  {
   "cell_type": "code",
   "execution_count": 1,
   "metadata": {},
   "outputs": [],
   "source": [
    "from __future__ import unicode_literals, print_function\n",
    "import plac\n",
    "import random\n",
    "from pathlib import Path\n",
    "import spacy\n",
    "from tqdm import tqdm"
   ]
  },
  {
   "cell_type": "code",
   "execution_count": 2,
   "metadata": {},
   "outputs": [
    {
     "name": "stdout",
     "output_type": "stream",
     "text": [
      "Requirement already satisfied: spacy in /home/lncosta/anaconda3/lib/python3.10/site-packages (3.6.1)\n",
      "Requirement already satisfied: pydantic!=1.8,!=1.8.1,<3.0.0,>=1.7.4 in /home/lncosta/anaconda3/lib/python3.10/site-packages (from spacy) (2.3.0)\n",
      "Requirement already satisfied: typer<0.10.0,>=0.3.0 in /home/lncosta/anaconda3/lib/python3.10/site-packages (from spacy) (0.9.0)\n",
      "Requirement already satisfied: smart-open<7.0.0,>=5.2.1 in /home/lncosta/anaconda3/lib/python3.10/site-packages (from spacy) (5.2.1)\n",
      "Requirement already satisfied: tqdm<5.0.0,>=4.38.0 in /home/lncosta/anaconda3/lib/python3.10/site-packages (from spacy) (4.64.1)\n",
      "Requirement already satisfied: pathy>=0.10.0 in /home/lncosta/anaconda3/lib/python3.10/site-packages (from spacy) (0.10.2)\n",
      "Requirement already satisfied: spacy-loggers<2.0.0,>=1.0.0 in /home/lncosta/anaconda3/lib/python3.10/site-packages (from spacy) (1.0.4)\n",
      "Requirement already satisfied: catalogue<2.1.0,>=2.0.6 in /home/lncosta/anaconda3/lib/python3.10/site-packages (from spacy) (2.0.9)\n",
      "Requirement already satisfied: setuptools in /home/lncosta/anaconda3/lib/python3.10/site-packages (from spacy) (65.6.3)\n",
      "Requirement already satisfied: murmurhash<1.1.0,>=0.28.0 in /home/lncosta/anaconda3/lib/python3.10/site-packages (from spacy) (1.0.9)\n",
      "Requirement already satisfied: cymem<2.1.0,>=2.0.2 in /home/lncosta/anaconda3/lib/python3.10/site-packages (from spacy) (2.0.7)\n",
      "Requirement already satisfied: jinja2 in /home/lncosta/anaconda3/lib/python3.10/site-packages (from spacy) (3.1.2)\n",
      "Requirement already satisfied: requests<3.0.0,>=2.13.0 in /home/lncosta/anaconda3/lib/python3.10/site-packages (from spacy) (2.31.0)\n",
      "Requirement already satisfied: packaging>=20.0 in /home/lncosta/anaconda3/lib/python3.10/site-packages (from spacy) (22.0)\n",
      "Requirement already satisfied: langcodes<4.0.0,>=3.2.0 in /home/lncosta/anaconda3/lib/python3.10/site-packages (from spacy) (3.3.0)\n",
      "Requirement already satisfied: preshed<3.1.0,>=3.0.2 in /home/lncosta/anaconda3/lib/python3.10/site-packages (from spacy) (3.0.8)\n",
      "Requirement already satisfied: wasabi<1.2.0,>=0.9.1 in /home/lncosta/anaconda3/lib/python3.10/site-packages (from spacy) (1.1.2)\n",
      "Requirement already satisfied: srsly<3.0.0,>=2.4.3 in /home/lncosta/anaconda3/lib/python3.10/site-packages (from spacy) (2.4.7)\n",
      "Requirement already satisfied: thinc<8.2.0,>=8.1.8 in /home/lncosta/anaconda3/lib/python3.10/site-packages (from spacy) (8.1.12)\n",
      "Requirement already satisfied: spacy-legacy<3.1.0,>=3.0.11 in /home/lncosta/anaconda3/lib/python3.10/site-packages (from spacy) (3.0.12)\n",
      "Requirement already satisfied: numpy>=1.15.0 in /home/lncosta/anaconda3/lib/python3.10/site-packages (from spacy) (1.23.5)\n",
      "Requirement already satisfied: pydantic-core==2.6.3 in /home/lncosta/anaconda3/lib/python3.10/site-packages (from pydantic!=1.8,!=1.8.1,<3.0.0,>=1.7.4->spacy) (2.6.3)\n",
      "Requirement already satisfied: typing-extensions>=4.6.1 in /home/lncosta/anaconda3/lib/python3.10/site-packages (from pydantic!=1.8,!=1.8.1,<3.0.0,>=1.7.4->spacy) (4.7.1)\n",
      "Requirement already satisfied: annotated-types>=0.4.0 in /home/lncosta/anaconda3/lib/python3.10/site-packages (from pydantic!=1.8,!=1.8.1,<3.0.0,>=1.7.4->spacy) (0.5.0)\n",
      "Requirement already satisfied: charset-normalizer<4,>=2 in /home/lncosta/anaconda3/lib/python3.10/site-packages (from requests<3.0.0,>=2.13.0->spacy) (2.0.4)\n",
      "Requirement already satisfied: idna<4,>=2.5 in /home/lncosta/anaconda3/lib/python3.10/site-packages (from requests<3.0.0,>=2.13.0->spacy) (3.4)\n",
      "Requirement already satisfied: certifi>=2017.4.17 in /home/lncosta/anaconda3/lib/python3.10/site-packages (from requests<3.0.0,>=2.13.0->spacy) (2022.12.7)\n",
      "Requirement already satisfied: urllib3<3,>=1.21.1 in /home/lncosta/anaconda3/lib/python3.10/site-packages (from requests<3.0.0,>=2.13.0->spacy) (1.26.14)\n",
      "Requirement already satisfied: confection<1.0.0,>=0.0.1 in /home/lncosta/anaconda3/lib/python3.10/site-packages (from thinc<8.2.0,>=8.1.8->spacy) (0.1.1)\n",
      "Requirement already satisfied: blis<0.8.0,>=0.7.8 in /home/lncosta/anaconda3/lib/python3.10/site-packages (from thinc<8.2.0,>=8.1.8->spacy) (0.7.10)\n",
      "Requirement already satisfied: click<9.0.0,>=7.1.1 in /home/lncosta/anaconda3/lib/python3.10/site-packages (from typer<0.10.0,>=0.3.0->spacy) (8.0.4)\n",
      "Requirement already satisfied: MarkupSafe>=2.0 in /home/lncosta/anaconda3/lib/python3.10/site-packages (from jinja2->spacy) (2.1.1)\n",
      "Note: you may need to restart the kernel to use updated packages.\n"
     ]
    },
    {
     "name": "stderr",
     "output_type": "stream",
     "text": [
      "UsageError: Line magic function `%python` not found (But cell magic `%%python` exists, did you mean that instead?).\n"
     ]
    }
   ],
   "source": [
    "#execute this if the model and sapacy aren't installed\n",
    "%pip install spacy\n",
    "%python -m spacy download pt_core_news_sm"
   ]
  },
  {
   "cell_type": "code",
   "execution_count": 4,
   "metadata": {},
   "outputs": [],
   "source": [
    "FILE=\"train.txt\" #change this if necessary\n",
    "f=open(FILE,\"r\")\n",
    "TRAIN_DATA=eval(f.read())"
   ]
  },
  {
   "cell_type": "code",
   "execution_count": 7,
   "metadata": {},
   "outputs": [],
   "source": [
    "model = 'pt_core_news_sm'\n",
    "n_iter=100"
   ]
  },
  {
   "cell_type": "code",
   "execution_count": 8,
   "metadata": {},
   "outputs": [
    {
     "name": "stdout",
     "output_type": "stream",
     "text": [
      "Loaded model 'pt_core_news_sm'\n"
     ]
    }
   ],
   "source": [
    "if model is not None:\n",
    "    nlp = spacy.load(model)  \n",
    "    print(\"Loaded model '%s'\" % model)\n",
    "else:\n",
    "    nlp = spacy.blank('en')  \n",
    "    print(\"Created blank 'en' model\")\n",
    "\n",
    "#set up the pipeline\n",
    "\n",
    "if 'ner' not in nlp.pipe_names:\n",
    "    ner = nlp.create_pipe('ner')\n",
    "    nlp.add_pipe(ner, last=True)\n",
    "else:\n",
    "    ner = nlp.get_pipe('ner')"
   ]
  },
  {
   "cell_type": "code",
   "execution_count": 16,
   "metadata": {},
   "outputs": [
    {
     "name": "stdout",
     "output_type": "stream",
     "text": [
      "{'ner': 3041.919858902693}\n",
      "{'ner': 2978.503441828758}\n",
      "{'ner': 2829.509812951088}\n",
      "{'ner': 2771.8409024477005}\n",
      "{'ner': 2756.1859478382394}\n",
      "{'ner': 2620.9111109972}\n",
      "{'ner': 2478.7261045724154}\n",
      "{'ner': 2437.766159892082}\n",
      "{'ner': 2359.4690890312195}\n",
      "{'ner': 2236.3878116607666}\n",
      "{'ner': 2191.9950379133224}\n",
      "{'ner': 2060.944660782814}\n",
      "{'ner': 1971.509877562523}\n",
      "{'ner': 1949.0719864368439}\n",
      "{'ner': 1944.7201251983643}\n",
      "{'ner': 1970.5462651252747}\n",
      "{'ner': 2021.8714714050293}\n",
      "{'ner': 2048.9361933469772}\n",
      "{'ner': 2030.6688047647476}\n",
      "{'ner': 1983.1865845918655}\n",
      "{'ner': 1919.0386760234833}\n",
      "{'ner': 1826.547473192215}\n",
      "{'ner': 1796.8161436319351}\n",
      "{'ner': 1774.4664803743362}\n",
      "{'ner': 1780.585930109024}\n",
      "{'ner': 1735.6864491701126}\n",
      "{'ner': 1724.712613105774}\n",
      "{'ner': 1725.9679911136627}\n",
      "{'ner': 1723.7937417030334}\n",
      "{'ner': 1708.4213209152222}\n",
      "{'ner': 1698.928923368454}\n",
      "{'ner': 1672.9047198295593}\n",
      "{'ner': 1642.329697549343}\n",
      "{'ner': 1630.4521592855453}\n",
      "{'ner': 1663.6833994984627}\n",
      "{'ner': 1677.2875323295593}\n",
      "{'ner': 1733.1697046756744}\n",
      "{'ner': 1712.4996383190155}\n",
      "{'ner': 1722.2837988138199}\n",
      "{'ner': 1696.2761927247047}\n",
      "{'ner': 1668.6638340950012}\n",
      "{'ner': 1639.3078887462616}\n",
      "{'ner': 1605.8949033021927}\n",
      "{'ner': 1520.6081337928772}\n",
      "{'ner': 1470.7126905322075}\n",
      "{'ner': 1422.6774579286575}\n",
      "{'ner': 1392.4059236049652}\n",
      "{'ner': 1335.9229962229729}\n",
      "{'ner': 1302.1656140089035}\n",
      "{'ner': 1277.4073690772057}\n",
      "{'ner': 1249.7149025201797}\n",
      "{'ner': 1235.7346439361572}\n",
      "{'ner': 1216.92260992527}\n",
      "{'ner': 1194.5734853744507}\n",
      "{'ner': 1163.7005777955055}\n",
      "{'ner': 1162.7604310512543}\n",
      "{'ner': 1150.1056048870087}\n",
      "{'ner': 1122.213712155819}\n",
      "{'ner': 1111.8224545121193}\n",
      "{'ner': 1089.216402232647}\n",
      "{'ner': 1076.1989516615868}\n",
      "{'ner': 1062.2120974063873}\n",
      "{'ner': 1060.0336781144142}\n",
      "{'ner': 1055.3927198946476}\n",
      "{'ner': 1037.6273814439774}\n",
      "{'ner': 1019.7349246740341}\n",
      "{'ner': 1011.5670195221901}\n",
      "{'ner': 1014.6298820972443}\n",
      "{'ner': 980.0922769010067}\n",
      "{'ner': 959.9287402629852}\n",
      "{'ner': 986.4010536074638}\n",
      "{'ner': 954.4388648867607}\n",
      "{'ner': 955.1029250621796}\n",
      "{'ner': 915.6753321886063}\n",
      "{'ner': 921.1853375732899}\n",
      "{'ner': 893.2998140454292}\n",
      "{'ner': 893.9935940504074}\n",
      "{'ner': 886.0494662225246}\n",
      "{'ner': 877.4435659646988}\n",
      "{'ner': 855.2478207349777}\n",
      "{'ner': 838.9446912407875}\n",
      "{'ner': 867.275268137455}\n",
      "{'ner': 844.8230732381344}\n",
      "{'ner': 857.8626790046692}\n",
      "{'ner': 820.6935656517744}\n",
      "{'ner': 842.1009777188301}\n",
      "{'ner': 804.2126879394054}\n",
      "{'ner': 821.6282935142517}\n",
      "{'ner': 803.1579191088676}\n",
      "{'ner': 774.8720603883266}\n",
      "{'ner': 784.0054273158312}\n",
      "{'ner': 787.5240905880928}\n",
      "{'ner': 773.4030472263694}\n",
      "{'ner': 773.1764171123505}\n",
      "{'ner': 783.362970277667}\n",
      "{'ner': 759.3349025547504}\n",
      "{'ner': 746.3079519569874}\n",
      "{'ner': 725.9683986902237}\n",
      "{'ner': 719.6215682253242}\n",
      "{'ner': 729.4297253564}\n"
     ]
    }
   ],
   "source": [
    "\n",
    "examples=[]\n",
    "for data in TRAIN_DATA:\n",
    "    text=data['product']\n",
    "    annotations_list=[]\n",
    "    for i in data[\"tags\"]:\n",
    "        annotations_list.append((i[1],i[2],i[0]))\n",
    "    annotations={\"entities\":annotations_list}\n",
    "    examples.append(spacy.training.Example.from_dict(nlp.make_doc(text), annotations))\n",
    "other_pipes = [pipe for pipe in nlp.pipe_names if pipe != 'ner']\n",
    "with nlp.disable_pipes(*other_pipes):  # only train NER\n",
    "    optimizer = nlp.create_optimizer()\n",
    "    for itn in range(n_iter):\n",
    "        random.shuffle(TRAIN_DATA)\n",
    "        losses = {}\n",
    "        nlp.update(\n",
    "            examples,\n",
    "            drop=0.5,                  sgd=optimizer,\n",
    "            losses=losses)\n",
    "        print(losses)"
   ]
  },
  {
   "cell_type": "code",
   "execution_count": 18,
   "metadata": {},
   "outputs": [
    {
     "data": {
      "text/html": [
       "<span class=\"tex2jax_ignore\"><div class=\"entities\" style=\"line-height: 2.5; direction: ltr\">\n",
       "<mark class=\"entity\" style=\"background: #ddd; padding: 0.45em 0.6em; margin: 0 0.25em; line-height: 1; border-radius: 0.35em;\">\n",
       "    Chá\n",
       "    <span style=\"font-size: 0.8em; font-weight: bold; line-height: 1; border-radius: 0.35em; vertical-align: middle; margin-left: 0.5rem\">B-PRO</span>\n",
       "</mark>\n",
       " \n",
       "<mark class=\"entity\" style=\"background: #ddd; padding: 0.45em 0.6em; margin: 0 0.25em; line-height: 1; border-radius: 0.35em;\">\n",
       "    Matte\n",
       "    <span style=\"font-size: 0.8em; font-weight: bold; line-height: 1; border-radius: 0.35em; vertical-align: middle; margin-left: 0.5rem\">B-ESP</span>\n",
       "</mark>\n",
       " \n",
       "<mark class=\"entity\" style=\"background: #ddd; padding: 0.45em 0.6em; margin: 0 0.25em; line-height: 1; border-radius: 0.35em;\">\n",
       "    Leão\n",
       "    <span style=\"font-size: 0.8em; font-weight: bold; line-height: 1; border-radius: 0.35em; vertical-align: middle; margin-left: 0.5rem\">B-ESP</span>\n",
       "</mark>\n",
       " \n",
       "<mark class=\"entity\" style=\"background: #ddd; padding: 0.45em 0.6em; margin: 0 0.25em; line-height: 1; border-radius: 0.35em;\">\n",
       "    Original\n",
       "    <span style=\"font-size: 0.8em; font-weight: bold; line-height: 1; border-radius: 0.35em; vertical-align: middle; margin-left: 0.5rem\">B-ESP</span>\n",
       "</mark>\n",
       " \n",
       "<mark class=\"entity\" style=\"background: #ddd; padding: 0.45em 0.6em; margin: 0 0.25em; line-height: 1; border-radius: 0.35em;\">\n",
       "    Zero\n",
       "    <span style=\"font-size: 0.8em; font-weight: bold; line-height: 1; border-radius: 0.35em; vertical-align: middle; margin-left: 0.5rem\">B-MAR</span>\n",
       "</mark>\n",
       " \n",
       "<mark class=\"entity\" style=\"background: #ddd; padding: 0.45em 0.6em; margin: 0 0.25em; line-height: 1; border-radius: 0.35em;\">\n",
       "    1,5l\n",
       "    <span style=\"font-size: 0.8em; font-weight: bold; line-height: 1; border-radius: 0.35em; vertical-align: middle; margin-left: 0.5rem\">B-TAM</span>\n",
       "</mark>\n",
       "</div></span>"
      ],
      "text/plain": [
       "<IPython.core.display.HTML object>"
      ]
     },
     "metadata": {},
     "output_type": "display_data"
    }
   ],
   "source": [
    "#maybe add some logic to make evaluations and save the model\n",
    "doc=nlp(\"Chá Matte Leão Original Zero 1,5l\")\n",
    "spacy.displacy.render(doc,style=\"ent\",jupyter=True)"
   ]
  }
 ],
 "metadata": {
  "kernelspec": {
   "display_name": "base",
   "language": "python",
   "name": "python3"
  },
  "language_info": {
   "codemirror_mode": {
    "name": "ipython",
    "version": 3
   },
   "file_extension": ".py",
   "mimetype": "text/x-python",
   "name": "python",
   "nbconvert_exporter": "python",
   "pygments_lexer": "ipython3",
   "version": "3.10.9"
  },
  "orig_nbformat": 4
 },
 "nbformat": 4,
 "nbformat_minor": 2
}
