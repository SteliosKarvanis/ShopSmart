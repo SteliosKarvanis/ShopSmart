{
 "cells": [
  {
   "cell_type": "markdown",
   "metadata": {},
   "source": [
    "Run this notebook once you have trained the NER model (see `train.ipynb`)"
   ]
  },
  {
   "cell_type": "markdown",
   "metadata": {},
   "source": [
    "# Load data from many markets"
   ]
  },
  {
   "cell_type": "code",
   "execution_count": 3,
   "metadata": {},
   "outputs": [],
   "source": [
    "import utils.scrapping\n",
    "from sys import stderr\n",
    "import os"
   ]
  },
  {
   "cell_type": "code",
   "execution_count": 4,
   "metadata": {},
   "outputs": [],
   "source": [
    "RAW_DATA_DIR = os.path.join(\"data\", \"raw\")\n",
    "\n",
    "if not os.path.exists(RAW_DATA_DIR):\n",
    "    os.mkdir(RAW_DATA_DIR)"
   ]
  },
  {
   "cell_type": "code",
   "execution_count": null,
   "metadata": {},
   "outputs": [],
   "source": [
    "markets = utils.scrapping.list_markets_in_city(\"São José dos Campos\", \"SP\")"
   ]
  },
  {
   "cell_type": "code",
   "execution_count": null,
   "metadata": {},
   "outputs": [],
   "source": [
    "len(markets)"
   ]
  },
  {
   "cell_type": "code",
   "execution_count": null,
   "metadata": {},
   "outputs": [],
   "source": [
    "# save data for 5 markets\n",
    "N = 5\n",
    "for market in markets[:N]:\n",
    "    print(f\"retrieving products of {market.name}...\")\n",
    "    utils.scrapping.load_products_from_website(market, True)\n",
    "    products = utils.scrapping.load_products_from_local_file(market)\n",
    "    if products is None:\n",
    "        print(\"FAILED\", file=stderr)\n",
    "        continue\n",
    "    fname = os.path.join(RAW_DATA_DIR, market.slug_name + \".json\")\n",
    "    print(f\"saving products of {market.name} into {fname}...\")\n",
    "    utils.scrapping.generate_data_file(products, fname)\n",
    "print(\"DONE\")"
   ]
  },
  {
   "cell_type": "markdown",
   "metadata": {},
   "source": [
    "We can find the raw (i.e. not yet tagged) data in `data/raw/`"
   ]
  },
  {
   "cell_type": "markdown",
   "metadata": {},
   "source": [
    "# Tag data"
   ]
  },
  {
   "cell_type": "code",
   "execution_count": 5,
   "metadata": {},
   "outputs": [
    {
     "name": "stderr",
     "output_type": "stream",
     "text": [
      "c:\\Users\\danie\\miniconda3\\envs\\adlinenv\\lib\\site-packages\\tqdm\\auto.py:21: TqdmWarning: IProgress not found. Please update jupyter and ipywidgets. See https://ipywidgets.readthedocs.io/en/stable/user_install.html\n",
      "  from .autonotebook import tqdm as notebook_tqdm\n"
     ]
    }
   ],
   "source": [
    "from utils.ner import NERModel\n",
    "import json\n",
    "from tqdm import tqdm"
   ]
  },
  {
   "cell_type": "code",
   "execution_count": 6,
   "metadata": {},
   "outputs": [],
   "source": [
    "TAGGED_DATA_DIR = os.path.join(\"data\", \"tagged_bert\")\n",
    "\n",
    "if not os.path.exists(TAGGED_DATA_DIR):\n",
    "    os.mkdir(TAGGED_DATA_DIR)"
   ]
  },
  {
   "cell_type": "code",
   "execution_count": 7,
   "metadata": {},
   "outputs": [],
   "source": [
    "ner = NERModel()"
   ]
  },
  {
   "cell_type": "code",
   "execution_count": 8,
   "metadata": {},
   "outputs": [
    {
     "name": "stdout",
     "output_type": "stream",
     "text": [
      "tagging atacadao-sao-jose-dos-campos-shopping-jd-satelite.json...\n"
     ]
    },
    {
     "name": "stderr",
     "output_type": "stream",
     "text": [
      "  0%|          | 0/9443 [00:00<?, ?it/s]Asking to truncate to max_length but no maximum length is provided and the model has no predefined maximum length. Default to no truncation.\n",
      "100%|██████████| 9443/9443 [06:09<00:00, 25.53it/s]\n"
     ]
    },
    {
     "name": "stdout",
     "output_type": "stream",
     "text": [
      "tagging carrefour-hiper---sj-campos-serimbura.json...\n"
     ]
    },
    {
     "name": "stderr",
     "output_type": "stream",
     "text": [
      "100%|██████████| 10366/10366 [06:38<00:00, 26.04it/s]\n"
     ]
    },
    {
     "name": "stdout",
     "output_type": "stream",
     "text": [
      "tagging coop---jd-morumbi-jd-morumbi.json...\n"
     ]
    },
    {
     "name": "stderr",
     "output_type": "stream",
     "text": [
      "100%|██████████| 8996/8996 [05:46<00:00, 25.99it/s]\n"
     ]
    },
    {
     "name": "stdout",
     "output_type": "stream",
     "text": [
      "tagging dia-supermercado---aquarius-jardim-alvorada.json...\n"
     ]
    },
    {
     "name": "stderr",
     "output_type": "stream",
     "text": [
      "100%|██████████| 3420/3420 [02:07<00:00, 26.73it/s]\n"
     ]
    },
    {
     "name": "stdout",
     "output_type": "stream",
     "text": [
      "tagging extra-sjc-centro-jd-osvaldo-cruz.json...\n"
     ]
    },
    {
     "name": "stderr",
     "output_type": "stream",
     "text": [
      "100%|██████████| 10356/10356 [06:29<00:00, 26.57it/s]\n"
     ]
    }
   ],
   "source": [
    "def tag_market(m):\n",
    "    ner_resp = ner.retrieve_tags(m['product'])\n",
    "    return {\n",
    "        'product': m['product'],\n",
    "        'tags': ner_resp['tags']\n",
    "    }\n",
    "\n",
    "for fname in os.listdir(RAW_DATA_DIR):\n",
    "\n",
    "    print(f\"tagging {fname}...\")\n",
    "\n",
    "    # read raw data:\n",
    "    with open(os.path.join(RAW_DATA_DIR, fname), 'r') as f:\n",
    "        market_products = eval(f.read()) # TODO dump as json, load as json; eval unsafe\n",
    "    \n",
    "    # tag data:\n",
    "    market_products = list(tqdm(map(tag_market, market_products), total=len(market_products)))\n",
    "    \n",
    "    # save tagged data:\n",
    "    with open(os.path.join(TAGGED_DATA_DIR, fname), 'w+') as f:\n",
    "        json.dump(market_products, f, ensure_ascii=False)"
   ]
  },
  {
   "cell_type": "code",
   "execution_count": null,
   "metadata": {},
   "outputs": [],
   "source": []
  }
 ],
 "metadata": {
  "kernelspec": {
   "display_name": "csi28",
   "language": "python",
   "name": "python3"
  },
  "language_info": {
   "codemirror_mode": {
    "name": "ipython",
    "version": 3
   },
   "file_extension": ".py",
   "mimetype": "text/x-python",
   "name": "python",
   "nbconvert_exporter": "python",
   "pygments_lexer": "ipython3",
   "version": "3.10.9"
  },
  "orig_nbformat": 4
 },
 "nbformat": 4,
 "nbformat_minor": 2
}
