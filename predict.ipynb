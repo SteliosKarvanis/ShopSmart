{
 "cells": [
  {
   "cell_type": "markdown",
   "metadata": {},
   "source": [
    "Run this notebook once you have trained the NER model (see `train.ipynb`)"
   ]
  },
  {
   "cell_type": "markdown",
   "metadata": {},
   "source": [
    "# Load data from many markets"
   ]
  },
  {
   "cell_type": "code",
   "execution_count": null,
   "metadata": {},
   "outputs": [],
   "source": [
    "import utils.scrapping\n",
    "from sys import stderr\n",
    "import os"
   ]
  },
  {
   "cell_type": "code",
   "execution_count": null,
   "metadata": {},
   "outputs": [],
   "source": [
    "RAW_DATA_DIR = os.path.join(\"data\", \"raw\")\n",
    "\n",
    "if not os.path.exists(RAW_DATA_DIR):\n",
    "    os.mkdir(RAW_DATA_DIR)"
   ]
  },
  {
   "cell_type": "code",
   "execution_count": null,
   "metadata": {},
   "outputs": [],
   "source": [
    "markets = utils.scrapping.list_markets_in_city(\"São José dos Campos\", \"SP\")"
   ]
  },
  {
   "cell_type": "code",
   "execution_count": null,
   "metadata": {},
   "outputs": [],
   "source": [
    "len(markets)"
   ]
  },
  {
   "cell_type": "code",
   "execution_count": null,
   "metadata": {},
   "outputs": [],
   "source": [
    "# save data for 5 markets\n",
    "N = 5\n",
    "for market in markets[:N]:\n",
    "    print(f\"retrieving products of {market.name}...\")\n",
    "    utils.scrapping.load_products_from_website(market, True)\n",
    "    products = utils.scrapping.load_products_from_local_file(market)\n",
    "    if products is None:\n",
    "        print(\"FAILED\", file=stderr)\n",
    "        continue\n",
    "    fname = os.path.join(RAW_DATA_DIR, market.slug_name + \".json\")\n",
    "    print(f\"saving products of {market.name} into {fname}...\")\n",
    "    utils.scrapping.generate_data_file(products, fname)\n",
    "print(\"DONE\")"
   ]
  },
  {
   "cell_type": "markdown",
   "metadata": {},
   "source": [
    "We can find the raw (i.e. not yet tagged) data in `data/raw/`"
   ]
  },
  {
   "cell_type": "markdown",
   "metadata": {},
   "source": [
    "# Tag data"
   ]
  },
  {
   "cell_type": "code",
   "execution_count": null,
   "metadata": {},
   "outputs": [],
   "source": [
    "from utils.ner import NERModel\n",
    "import json\n",
    "from tqdm import tqdm"
   ]
  },
  {
   "cell_type": "code",
   "execution_count": null,
   "metadata": {},
   "outputs": [],
   "source": [
    "TAGGED_DATA_DIR = os.path.join(\"data\", \"tagged\")\n",
    "\n",
    "if not os.path.exists(TAGGED_DATA_DIR):\n",
    "    os.mkdir(TAGGED_DATA_DIR)"
   ]
  },
  {
   "cell_type": "code",
   "execution_count": null,
   "metadata": {},
   "outputs": [],
   "source": [
    "ner = NERModel(\"ner_v0\")"
   ]
  },
  {
   "cell_type": "code",
   "execution_count": null,
   "metadata": {},
   "outputs": [],
   "source": [
    "def tag_market(m):\n",
    "    ner_resp = ner.retrieve_tags(m['product'])\n",
    "    return {\n",
    "        'product': m['product'],\n",
    "        'tags': ner_resp['tags']\n",
    "    }\n",
    "\n",
    "for fname in os.listdir(RAW_DATA_DIR):\n",
    "\n",
    "    print(f\"tagging {fname}...\")\n",
    "\n",
    "    # read raw data:\n",
    "    with open(os.path.join(RAW_DATA_DIR, fname), 'r') as f:\n",
    "        market_products = eval(f.read()) # TODO dump as json, load as json; eval unsafe\n",
    "    \n",
    "    # tag data:\n",
    "    market_products = list(tqdm(map(tag_market, market_products), total=len(market_products)))\n",
    "    \n",
    "    # save tagged data:\n",
    "    with open(os.path.join(TAGGED_DATA_DIR, fname), 'w+') as f:\n",
    "        json.dump(market_products, f, ensure_ascii=False)"
   ]
  },
  {
   "cell_type": "code",
   "execution_count": null,
   "metadata": {},
   "outputs": [],
   "source": []
  }
 ],
 "metadata": {
  "kernelspec": {
   "display_name": "csi28",
   "language": "python",
   "name": "python3"
  },
  "language_info": {
   "codemirror_mode": {
    "name": "ipython",
    "version": 3
   },
   "file_extension": ".py",
   "mimetype": "text/x-python",
   "name": "python",
   "nbconvert_exporter": "python",
   "pygments_lexer": "ipython3",
   "version": "3.10.12"
  },
  "orig_nbformat": 4
 },
 "nbformat": 4,
 "nbformat_minor": 2
}
